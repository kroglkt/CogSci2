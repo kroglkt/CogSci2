{
 "cells": [
  {
   "cell_type": "code",
   "execution_count": 37,
   "metadata": {},
   "outputs": [
    {
     "name": "stderr",
     "output_type": "stream",
     "text": [
      "c:\\python37\\lib\\site-packages\\ipykernel\\ipkernel.py:287: DeprecationWarning: `should_run_async` will not call `transform_cell` automatically in the future. Please pass the result to `transformed_cell` argument and any exception that happen during thetransform in `preprocessing_exc_tuple` in IPython 7.17 and above.\n",
      "  and should_run_async(code)\n"
     ]
    }
   ],
   "source": [
    "import numpy as np\n",
    "import pandas as pd\n",
    "import matplotlib.pyplot as plt\n",
    "from scipy.io import loadmat\n",
    "import warnings\n",
    "from tqdm import tqdm\n",
    "\n",
    "from sklearn.dummy import DummyClassifier\n",
    "from sklearn.model_selection import train_test_split, RandomizedSearchCV, cross_val_score\n",
    "import sklearn\n",
    "from sklearn.linear_model import LogisticRegressionCV\n",
    "from sklearn.preprocessing import normalize, StandardScaler\n",
    "from sklearn.metrics import f1_score\n",
    "from sklearn.decomposition import PCA\n",
    "from sklearn.ensemble import RandomForestClassifier\n",
    "warnings.filterwarnings('ignore')"
   ]
  },
  {
   "cell_type": "markdown",
   "metadata": {},
   "source": [
    "## Loading data"
   ]
  },
  {
   "cell_type": "code",
   "execution_count": 38,
   "metadata": {
    "scrolled": false
   },
   "outputs": [],
   "source": [
    "#Convert Personality to DataFrame\n",
    "personality = loadmat('data/Dt_Personality.mat')\n",
    "personality = personality['Personality']\n",
    "big5 = pd.DataFrame(personality, columns=['extro', 'agree', 'cons', 'stability', 'open'])\n",
    "#big5.head()"
   ]
  },
  {
   "cell_type": "code",
   "execution_count": 39,
   "metadata": {},
   "outputs": [],
   "source": [
    "#Load MATLAB file for ECG\"\n",
    "ECG = loadmat('data/Dt_ECGFeatures.mat')\n",
    "ECG_feats_mat = ECG['ECGFeatures_58']"
   ]
  },
  {
   "cell_type": "code",
   "execution_count": 40,
   "metadata": {},
   "outputs": [],
   "source": [
    "def unfold_mat(mat, feats=None):\n",
    "    #Returns list with each index being participant.\n",
    "    #Each item has dataframe with shape video x feature (row is video, columns are features)\n",
    "    lst = []\n",
    "    for i in mat:\n",
    "        d = pd.DataFrame(i, columns=feats)\n",
    "        d.index += 1\n",
    "        lst.append(d)\n",
    "    \n",
    "    return lst\n",
    "\n",
    "def statistical_measurements(suffix):\n",
    "    #Some modalities have statistical measurements, they are always the same 6 items.\n",
    "    cols = []\n",
    "    names = ['mean', 'std', 'skewness', 'kurtosis', '%time_over_mean+std', '%time_over_mean-std']\n",
    "    for i in range(6):\n",
    "        cols.append(names[i]+'_'+suffix)\n",
    "    return cols"
   ]
  },
  {
   "cell_type": "code",
   "execution_count": 41,
   "metadata": {},
   "outputs": [],
   "source": [
    "#Isolate ECG (Heart Monitor) Features\n",
    "ECG_cols = ['low_freq_PSD' for x in range(10)]\n",
    "[ECG_cols.append('slow_response_PSD') for x in range(4)]\n",
    "[ECG_cols.append(x) for x in statistical_measurements('IBI')]\n",
    "[ECG_cols.append(x) for x in statistical_measurements('HR')]\n",
    "[ECG_cols.append(x) for x in statistical_measurements('HRV')]\n",
    "\n",
    "ECG_feats = unfold_mat(ECG_feats_mat[0], feats=ECG_cols)\n",
    "\n",
    "#Remove columns, where all rows are 0.0 or NaN - ECG had a lot of useless readings.\n",
    "for i in range(len(ECG_feats)):\n",
    "    ECG_feats[i] = ECG_feats[i].drop('low_freq_PSD', axis=1)\n",
    "    ECG_feats[i] = ECG_feats[i].drop('slow_response_PSD', axis=1)\n",
    "    ECG_feats[i] = ECG_feats[i].drop('mean_IBI', axis=1)\n",
    "    ECG_feats[i] = ECG_feats[i].drop('std_IBI', axis=1)\n",
    "    ECG_feats[i] = ECG_feats[i].drop('skewness_IBI', axis=1)\n",
    "    ECG_feats[i] = ECG_feats[i].drop('kurtosis_IBI', axis=1)\n",
    "    \n",
    "\n",
    "#ECG_feats[0].head()"
   ]
  },
  {
   "cell_type": "code",
   "execution_count": 42,
   "metadata": {},
   "outputs": [],
   "source": [
    "#Load EEG features\n",
    "EEG = loadmat('data/Dt_EEGFeatures.mat')\n",
    "EEG_feats_mat = EEG['EEGFeatures_58']\n",
    "\n",
    "#Isolate EEG features\n",
    "EEG_cols = []\n",
    "[EEG_cols.append(x) for x in ['avg_first_deriv', 'prop_neg_diff_samples', 'mean_num_peaks', 'mean_deriv_inv_signal', 'avg_num_peaks_inv_signal']]\n",
    "[EEG_cols.append(x) for x in statistical_measurements('EEG')]\n",
    "[EEG_cols.append('attention') for x in range(11)]\n",
    "[EEG_cols.append('meditation') for x in range(11)]\n",
    "[EEG_cols.append('alpha') for x in range(11)]\n",
    "[EEG_cols.append('beta') for x in range(11)]\n",
    "[EEG_cols.append('delta') for x in range(11)]\n",
    "[EEG_cols.append('gamma') for x in range(11)]\n",
    "[EEG_cols.append('theta') for x in range(11)]\n",
    "\n",
    "EEG_feats = unfold_mat(EEG_feats_mat[0], feats=EEG_cols)\n",
    "#EEG_feats[0].head()"
   ]
  },
  {
   "cell_type": "code",
   "execution_count": 43,
   "metadata": {},
   "outputs": [],
   "source": [
    "#Load GSR features\n",
    "GSR = loadmat('data/Dt_GSRFeatures.mat')\n",
    "GSR_feats_mat = GSR['GSRFeatures_58']\n",
    "GSR_fails_mat = GSR['GSRFailures_58']\n",
    "\n",
    "GSR_cols = ['mean_resistance',\n",
    "            'mean_derivative',\n",
    "            'mean_differential_neg_values',\n",
    "            'proportion_neg_derivative_samples',\n",
    "            'num_local_signal_minima',\n",
    "            'avg_rising_time',\n",
    "            'spectral_power_Hz',\n",
    "            'zero_crossing_slow',\n",
    "            'zero_crossing_very_slow',\n",
    "            'mean_scsr',\n",
    "            'scvsr_peak_mag']\n",
    "\n",
    "\n",
    "GSR_feats = unfold_mat(GSR_feats_mat[0])\n",
    "#GSR_feats[0].head()"
   ]
  },
  {
   "cell_type": "code",
   "execution_count": 44,
   "metadata": {},
   "outputs": [],
   "source": [
    "#Load facial landmark features\n",
    "EMO = loadmat('data/Dt_EMOFeatures.mat')\n",
    "EMO_feats_mat = EMO['EMOFeatures_58']\n",
    "\n",
    "EMO_cols = []\n",
    "[EMO_cols.append(x) for x in statistical_measurements('verti_upper_lip')]\n",
    "[EMO_cols.append(x) for x in statistical_measurements('verti_lower_lip')]\n",
    "[EMO_cols.append(x) for x in statistical_measurements('horis_left_lip')]\n",
    "[EMO_cols.append(x) for x in statistical_measurements('verti_left_lip')]\n",
    "[EMO_cols.append(x) for x in statistical_measurements('horis_right_lip')]\n",
    "[EMO_cols.append(x) for x in statistical_measurements('verti_right_lip')]\n",
    "[EMO_cols.append(x) for x in statistical_measurements('right_eyebrow')]\n",
    "[EMO_cols.append(x) for x in statistical_measurements('left_eyebrow')]\n",
    "[EMO_cols.append(x) for x in statistical_measurements('right_cheek')]\n",
    "[EMO_cols.append(x) for x in statistical_measurements('left_cheek')]\n",
    "[EMO_cols.append(x) for x in statistical_measurements('right_lid')]\n",
    "[EMO_cols.append(x) for x in statistical_measurements('left_lid')]\n",
    "\n",
    "EMO_feats = unfold_mat(EMO_feats_mat[0], feats=EMO_cols)\n",
    "#EMO_feats[0].head()"
   ]
  },
  {
   "cell_type": "markdown",
   "metadata": {},
   "source": [
    "## Data preprocessing"
   ]
  },
  {
   "cell_type": "code",
   "execution_count": 45,
   "metadata": {},
   "outputs": [],
   "source": [
    "def get_group(modality, group):\n",
    "    #Returns a subset of modality after grouped movie clip\n",
    "    #ex: get_group(EEG_feats, LAHV) -> list with dataframes, each is a participant, each row movie\n",
    "    out = []\n",
    "    for i in range(len(modality)):\n",
    "        out.append(modality[i].loc[group])\n",
    "    return out\n",
    "\n",
    "def trait_binary(trait):\n",
    "    #Converts personality trait to 0/1 (low/high) depending on median.\n",
    "    #Returns a 1D numpy array\n",
    "    median = np.median(big5.loc[:][trait].values)\n",
    "    mask = big5.loc[:][trait]>median\n",
    "    return mask.astype(int).values\n",
    "    \n",
    "\n",
    "def format_train_data(modality, trait, shuffle=False):\n",
    "    #Creates input vectors and output vectors for modality and trait combination.\n",
    "    vector_x = []\n",
    "    vector_y = []\n",
    "    \n",
    "    bool5 = trait_binary(trait)\n",
    "    \n",
    "    for i, participant in enumerate(modality):\n",
    "        participant.replace([np.inf, -np.inf], np.nan, inplace=True)\n",
    "        participant = participant.dropna()\n",
    "        y = bool5[i]\n",
    "        \n",
    "        for clip in participant.index:\n",
    "            vector_x.append(participant.loc[clip].values)\n",
    "            vector_y.append(y)\n",
    "    \n",
    "    vector_y = np.array(vector_y)\n",
    "    vector_x = np.array(vector_x)\n",
    "    if shuffle:\n",
    "        vector_x, vector_y = sklearn.utils.shuffle(vector_x, vector_y, random_state=42)\n",
    "        \n",
    "    return vector_x, vector_y\n",
    "\n",
    "def preprocess(features, target_trait):\n",
    "    #Function, which returns standardized PCA on X and y\n",
    "    pca = PCA(n_components=0.99)\n",
    "    X, y = format_train_data(features, target_trait, shuffle=True)\n",
    "    scaler = StandardScaler().fit(X)\n",
    "    X = scaler.transform(X)\n",
    "\n",
    "    x_pca = pca.fit_transform(X)\n",
    "    \n",
    "    return x_pca, y\n",
    "\n",
    "def results(classifier):\n",
    "    #Creates dataframe with unimodal results.\n",
    "    mats = { #Dict with column names corresponding to features.\n",
    "        'EEG': EEG_feats,\n",
    "        'ECG': ECG_feats,\n",
    "        'EMO': EMO_feats,\n",
    "        'GSR': GSR_feats\n",
    "    }\n",
    "    scores = []\n",
    "    #Initialise dataframe\n",
    "    df = pd.DataFrame(columns=big5.keys(), index=['ECG', 'EEG', 'GSR', 'EMO'])\n",
    "    for trait in tqdm(list(df.keys())):\n",
    "        for modal in list(df.index):\n",
    "            #For each combination of modality and trait:\n",
    "            X, y = preprocess(mats[modal], trait) #\n",
    "            score = round(np.mean(cross_val_score(classifier, X, y, scoring='f1', cv=10)),2)\n",
    "            df[trait][modal] = score\n",
    "            scores.append(score)            \n",
    "\n",
    "    print(\"Mean score:\", np.mean(scores))\n",
    "    print(\"STD score:\", np.std(scores))\n",
    "    \n",
    "    return df\n",
    "\n",
    "#train_X, test_X, train_y, test_y = preprocess(EEG_feats, 'open')"
   ]
  },
  {
   "cell_type": "markdown",
   "metadata": {},
   "source": [
    "## Models"
   ]
  },
  {
   "cell_type": "markdown",
   "metadata": {},
   "source": [
    "### Baseline (Should we even use it?)"
   ]
  },
  {
   "cell_type": "code",
   "execution_count": 46,
   "metadata": {},
   "outputs": [
    {
     "name": "stderr",
     "output_type": "stream",
     "text": [
      "100%|████████████████████████████████████████████████████████████████████████████████████| 5/5 [00:04<00:00,  1.18it/s]"
     ]
    },
    {
     "name": "stdout",
     "output_type": "stream",
     "text": [
      "Mean score: 0.4575\n",
      "STD score: 0.03645202326346235\n"
     ]
    },
    {
     "name": "stderr",
     "output_type": "stream",
     "text": [
      "\n"
     ]
    },
    {
     "data": {
      "text/html": [
       "<div>\n",
       "<style scoped>\n",
       "    .dataframe tbody tr th:only-of-type {\n",
       "        vertical-align: middle;\n",
       "    }\n",
       "\n",
       "    .dataframe tbody tr th {\n",
       "        vertical-align: top;\n",
       "    }\n",
       "\n",
       "    .dataframe thead th {\n",
       "        text-align: right;\n",
       "    }\n",
       "</style>\n",
       "<table border=\"1\" class=\"dataframe\">\n",
       "  <thead>\n",
       "    <tr style=\"text-align: right;\">\n",
       "      <th></th>\n",
       "      <th>extro</th>\n",
       "      <th>agree</th>\n",
       "      <th>cons</th>\n",
       "      <th>stability</th>\n",
       "      <th>open</th>\n",
       "    </tr>\n",
       "  </thead>\n",
       "  <tbody>\n",
       "    <tr>\n",
       "      <th>ECG</th>\n",
       "      <td>0.5</td>\n",
       "      <td>0.46</td>\n",
       "      <td>0.46</td>\n",
       "      <td>0.49</td>\n",
       "      <td>0.44</td>\n",
       "    </tr>\n",
       "    <tr>\n",
       "      <th>EEG</th>\n",
       "      <td>0.49</td>\n",
       "      <td>0.43</td>\n",
       "      <td>0.41</td>\n",
       "      <td>0.54</td>\n",
       "      <td>0.42</td>\n",
       "    </tr>\n",
       "    <tr>\n",
       "      <th>GSR</th>\n",
       "      <td>0.49</td>\n",
       "      <td>0.47</td>\n",
       "      <td>0.46</td>\n",
       "      <td>0.49</td>\n",
       "      <td>0.42</td>\n",
       "    </tr>\n",
       "    <tr>\n",
       "      <th>EMO</th>\n",
       "      <td>0.48</td>\n",
       "      <td>0.45</td>\n",
       "      <td>0.39</td>\n",
       "      <td>0.45</td>\n",
       "      <td>0.41</td>\n",
       "    </tr>\n",
       "  </tbody>\n",
       "</table>\n",
       "</div>"
      ],
      "text/plain": [
       "    extro agree  cons stability  open\n",
       "ECG   0.5  0.46  0.46      0.49  0.44\n",
       "EEG  0.49  0.43  0.41      0.54  0.42\n",
       "GSR  0.49  0.47  0.46      0.49  0.42\n",
       "EMO  0.48  0.45  0.39      0.45  0.41"
      ]
     },
     "execution_count": 46,
     "metadata": {},
     "output_type": "execute_result"
    }
   ],
   "source": [
    "dummy = DummyClassifier(random_state=42)\n",
    "results(dummy)"
   ]
  },
  {
   "cell_type": "markdown",
   "metadata": {},
   "source": [
    "### Logistic Regression"
   ]
  },
  {
   "cell_type": "code",
   "execution_count": 47,
   "metadata": {},
   "outputs": [
    {
     "name": "stderr",
     "output_type": "stream",
     "text": [
      "100%|████████████████████████████████████████████████████████████████████████████████████| 5/5 [01:13<00:00, 14.64s/it]"
     ]
    },
    {
     "name": "stdout",
     "output_type": "stream",
     "text": [
      "Mean score: 0.544\n",
      "STD score: 0.09911609354691095\n"
     ]
    },
    {
     "name": "stderr",
     "output_type": "stream",
     "text": [
      "\n"
     ]
    },
    {
     "data": {
      "text/html": [
       "<div>\n",
       "<style scoped>\n",
       "    .dataframe tbody tr th:only-of-type {\n",
       "        vertical-align: middle;\n",
       "    }\n",
       "\n",
       "    .dataframe tbody tr th {\n",
       "        vertical-align: top;\n",
       "    }\n",
       "\n",
       "    .dataframe thead th {\n",
       "        text-align: right;\n",
       "    }\n",
       "</style>\n",
       "<table border=\"1\" class=\"dataframe\">\n",
       "  <thead>\n",
       "    <tr style=\"text-align: right;\">\n",
       "      <th></th>\n",
       "      <th>extro</th>\n",
       "      <th>agree</th>\n",
       "      <th>cons</th>\n",
       "      <th>stability</th>\n",
       "      <th>open</th>\n",
       "    </tr>\n",
       "  </thead>\n",
       "  <tbody>\n",
       "    <tr>\n",
       "      <th>ECG</th>\n",
       "      <td>0.63</td>\n",
       "      <td>0.52</td>\n",
       "      <td>0.56</td>\n",
       "      <td>0.62</td>\n",
       "      <td>0.48</td>\n",
       "    </tr>\n",
       "    <tr>\n",
       "      <th>EEG</th>\n",
       "      <td>0.63</td>\n",
       "      <td>0.42</td>\n",
       "      <td>0.48</td>\n",
       "      <td>0.64</td>\n",
       "      <td>0.43</td>\n",
       "    </tr>\n",
       "    <tr>\n",
       "      <th>GSR</th>\n",
       "      <td>0.57</td>\n",
       "      <td>0.49</td>\n",
       "      <td>0.49</td>\n",
       "      <td>0.59</td>\n",
       "      <td>0.25</td>\n",
       "    </tr>\n",
       "    <tr>\n",
       "      <th>EMO</th>\n",
       "      <td>0.66</td>\n",
       "      <td>0.66</td>\n",
       "      <td>0.62</td>\n",
       "      <td>0.56</td>\n",
       "      <td>0.58</td>\n",
       "    </tr>\n",
       "  </tbody>\n",
       "</table>\n",
       "</div>"
      ],
      "text/plain": [
       "    extro agree  cons stability  open\n",
       "ECG  0.63  0.52  0.56      0.62  0.48\n",
       "EEG  0.63  0.42  0.48      0.64  0.43\n",
       "GSR  0.57  0.49  0.49      0.59  0.25\n",
       "EMO  0.66  0.66  0.62      0.56  0.58"
      ]
     },
     "execution_count": 47,
     "metadata": {},
     "output_type": "execute_result"
    }
   ],
   "source": [
    "warnings.filterwarnings('always')\n",
    "logreg = LogisticRegressionCV(random_state=42, max_iter=2500, scoring='f1')\n",
    "results(logreg)"
   ]
  },
  {
   "cell_type": "markdown",
   "metadata": {},
   "source": [
    "### Random Forest Classifier"
   ]
  },
  {
   "cell_type": "code",
   "execution_count": null,
   "metadata": {},
   "outputs": [
    {
     "name": "stderr",
     "output_type": "stream",
     "text": [
      "c:\\python37\\lib\\site-packages\\ipykernel\\ipkernel.py:287: DeprecationWarning: `should_run_async` will not call `transform_cell` automatically in the future. Please pass the result to `transformed_cell` argument and any exception that happen during thetransform in `preprocessing_exc_tuple` in IPython 7.17 and above.\n",
      "  and should_run_async(code)\n",
      " 80%|███████████████████████████████████████████████████████████████████▏                | 4/5 [03:02<00:45, 45.85s/it]"
     ]
    }
   ],
   "source": [
    "rfc = RandomForestClassifier(n_estimators=500, n_jobs=4, random_state=42)\n",
    "results(rfc)"
   ]
  },
  {
   "cell_type": "code",
   "execution_count": null,
   "metadata": {},
   "outputs": [],
   "source": []
  }
 ],
 "metadata": {
  "kernelspec": {
   "display_name": "Python 3",
   "language": "python",
   "name": "python3"
  },
  "language_info": {
   "codemirror_mode": {
    "name": "ipython",
    "version": 3
   },
   "file_extension": ".py",
   "mimetype": "text/x-python",
   "name": "python",
   "nbconvert_exporter": "python",
   "pygments_lexer": "ipython3",
   "version": "3.7.4"
  }
 },
 "nbformat": 4,
 "nbformat_minor": 4
}
